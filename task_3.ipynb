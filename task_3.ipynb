{
 "cells": [
  {
   "cell_type": "markdown",
   "id": "4db6dbc8",
   "metadata": {},
   "source": [
    "# *Python Task-3*"
   ]
  },
  {
   "cell_type": "markdown",
   "id": "d4728c21",
   "metadata": {},
   "source": [
    "#### *Examples of AND and OR with Integer (int)*"
   ]
  },
  {
   "cell_type": "code",
   "execution_count": 5,
   "id": "7f2a4863",
   "metadata": {},
   "outputs": [
    {
     "name": "stdout",
     "output_type": "stream",
     "text": [
      "50 is greater number\n"
     ]
    }
   ],
   "source": [
    "a=int(input(\"Enter first number : \"))\n",
    "b=int(input(\"Enter second number : \"))\n",
    "c=int(input(\"Enter third number : \"))\n",
    "\n",
    "if a>b and a>c:\n",
    "    print(f\"{a} is greater number\")\n",
    "elif b>a and b>c:\n",
    "    print(f\"{b} is greater number\")\n",
    "else:\n",
    "    print(f\"{c} is greater number\")"
   ]
  },
  {
   "cell_type": "code",
   "execution_count": 14,
   "id": "ce7b4655",
   "metadata": {},
   "outputs": [
    {
     "name": "stdout",
     "output_type": "stream",
     "text": [
      " b '226' is even number \n"
     ]
    }
   ],
   "source": [
    "\n",
    "a=455\n",
    "b=226\n",
    "\n",
    "if a %2==0 and b %2==0 :\n",
    "    print(f\"Both a '{a}' and b '{b}' are even number \")\n",
    "elif a %2==0 :\n",
    "    print(f\"a '{a}' is even number \")\n",
    "elif b %2==0 :\n",
    "    print(f\" b '{b}' is even number \")\n",
    "else :\n",
    "    print(f\"Both are odd numbers \")"
   ]
  },
  {
   "cell_type": "code",
   "execution_count": 27,
   "id": "a6e7e95d",
   "metadata": {},
   "outputs": [
    {
     "name": "stdout",
     "output_type": "stream",
     "text": [
      "You are in Young Category \n"
     ]
    }
   ],
   "source": [
    "age=int(input(\"Enter your age : \"))\n",
    "\n",
    "if age>=1 and age<=18:\n",
    "    print(f\"You are in Childhood Category\")\n",
    "elif age>=18 and age<=30 :\n",
    "    print(f\"You are in Young Category \")\n",
    "elif age>=30 and age<=60 :\n",
    "    print(f\"You are in Adult Category \")\n",
    "elif age>=60 and age<=80:\n",
    "    print(f\"Ypiu are in Senior Cateogry \")\n",
    "elif age>=80 and age<=100:\n",
    "    print(f\"You are in Aged Category \")\n",
    "else:\n",
    "    print(f\"Invalid Age \")"
   ]
  },
  {
   "cell_type": "code",
   "execution_count": 36,
   "id": "68e7f6b0",
   "metadata": {},
   "outputs": [
    {
     "name": "stdout",
     "output_type": "stream",
     "text": [
      "You are eligible for voting\n"
     ]
    }
   ],
   "source": [
    "Age=int(input(\"Enter your Age :\"))\n",
    "\n",
    "if Age<18:\n",
    "    print(f\"You are no eligibe for voting\")\n",
    "elif Age>=18 and age<=80:\n",
    "    print(f\"You are eligible for voting\")\n",
    "else:\n",
    "    print(f\"Invalid age\")"
   ]
  },
  {
   "cell_type": "code",
   "execution_count": 40,
   "id": "9cd0a493",
   "metadata": {},
   "outputs": [
    {
     "name": "stdout",
     "output_type": "stream",
     "text": [
      "It's a Perfect Match \n"
     ]
    }
   ],
   "source": [
    "a=int(input(\"enter any number :\"))\n",
    "b=int(input(\"enter any number :\"))\n",
    "\n",
    "if a==10 and b==20:\n",
    "    print(f\"It's a Perfect Match \")\n",
    "elif a==10 and b!=20:\n",
    "    print(f\"Only 'a' is Matched \")\n",
    "elif a!=10 and b==20:\n",
    "    print(f\"Only 'b' is Matched\")\n",
    "else:\n",
    "    print(f\"Not Machted \")"
   ]
  },
  {
   "cell_type": "markdown",
   "id": "7697ac8e",
   "metadata": {},
   "source": [
    "#### *Examples of AND and OR with String (str)*"
   ]
  },
  {
   "cell_type": "code",
   "execution_count": null,
   "id": "137548ac",
   "metadata": {},
   "outputs": [
    {
     "name": "stdout",
     "output_type": "stream",
     "text": [
      "It's a Full Name of Candidate\n"
     ]
    }
   ],
   "source": [
    "FirstName=\"Piyush\" \n",
    "MiddleName=\"Parasnath\"\n",
    "LastName=\"Sharma\"\n",
    "\n",
    "if FirstName==\"Piyush\" and MiddleName==\"Parasnath\" and LastName==\"Sharma\":\n",
    "    print(f\"It's a Full Name of Candidate\")\n",
    "elif FirstName==\"Piyush\" and MiddleName!=\"Parasnath\" and LastName!=\"Sharma\":\n",
    "    print(f\"It's First Name of Candidate\")\n",
    "elif FirstName!=\"Piyush\" and MiddleName==\"Parasnath\" and LastName!=\"Sharma\":\n",
    "    print(f\"It's Middle Name of Candidate\")\n",
    "elif FirstName!=\"Piyush\" and MiddleName!=\"Parasnath\" and LastName==\"Sharma\":\n",
    "    print(f\"It's Last Name of Candidate\")\n",
    "else:\n",
    "    print(f\"Invalid Name\")"
   ]
  },
  {
   "cell_type": "code",
   "execution_count": 46,
   "id": "58ce22fe",
   "metadata": {},
   "outputs": [
    {
     "name": "stdout",
     "output_type": "stream",
     "text": [
      "It's First Name of Candidate\n"
     ]
    }
   ],
   "source": [
    "FirstName=input(\"Enter your first name :\")\n",
    "MiddleName=input(\"Enter your middle name :\")\n",
    "LastName=input(\"Enter your last name :\")\n",
    "\n",
    "if FirstName==\"Piyush\" and MiddleName==\"Parasnath\" and LastName==\"Sharma\":\n",
    "    print(f\"It's a Full Name of Candidate\")\n",
    "elif FirstName==\"Piyush\" and MiddleName!=\"Parasnath\" and LastName!=\"Sharma\":\n",
    "    print(f\"It's First Name of Candidate\")\n",
    "elif FirstName!=\"Piyush\" and MiddleName==\"Parasnath\" and LastName!=\"Sharma\":\n",
    "    print(f\"It's Middle Name of Candidate\")\n",
    "elif FirstName!=\"Piyush\" and MiddleName!=\"Parasnath\" and LastName==\"Sharma\":\n",
    "    print(f\"It's Last Name of Candidate\")\n",
    "else:\n",
    "    print(f\"Invalid Name\")"
   ]
  },
  {
   "cell_type": "code",
   "execution_count": 55,
   "id": "2cdaf476",
   "metadata": {},
   "outputs": [
    {
     "name": "stdout",
     "output_type": "stream",
     "text": [
      "User Login Succesfully\n"
     ]
    }
   ],
   "source": [
    "userName=\"Piyush@123\"\n",
    "email=\"Piyush@gmail.com\"\n",
    "passward=\"Piyush123\"\n",
    "\n",
    "if userName==\"Piyush@123\" and email==\"Piyush@gmail.com\" and passward==\"Piyush123\":\n",
    "    print(f\"User Login Succesfully\")\n",
    "elif userName==\"Piyush@123\" and email!=\"Piyush@gmail.com\" and passward!=\"Piyush123\":\n",
    "    print(f\"Invalid email and passward\")\n",
    "elif userName==\"Piyush@123\" and email==\"Piyush@gmail.com\" and passward!=\"Piyush123\":\n",
    "    print(f\"Invalid passward\")\n",
    "elif userName!=\"Piyush@123\" and email==\"Piyush@gmail.com \"and passward==\"Piyush123\":\n",
    "    print(f\"Invalid user name \")\n",
    "else:\n",
    "    print(f\"User not found\")"
   ]
  },
  {
   "cell_type": "code",
   "execution_count": 56,
   "id": "cddc5ecc",
   "metadata": {},
   "outputs": [
    {
     "name": "stdout",
     "output_type": "stream",
     "text": [
      "User Login Succesfully\n"
     ]
    }
   ],
   "source": [
    "userName=input(\"Enter your User name :\")\n",
    "email=input(\"Enter your email :\")\n",
    "passward=input(\"Enter your passward :\")\n",
    "\n",
    "if userName==\"Piyush@123\" and email==\"Piyush@gmail.com\" and passward==\"Piyush123\":\n",
    "    print(f\"User Login Succesfully\")\n",
    "elif userName==\"Piyush@123\" and email!=\"Piyush@gmail.com\" and passward!=\"Piyush123\":\n",
    "    print(f\"Invalid email and passward\")\n",
    "elif userName==\"Piyush@123\" and email==\"Piyush@gmail.com\" and passward!=\"Piyush123\":\n",
    "    print(f\"Invalid passward\")\n",
    "elif userName!=\"Piyush@123\" and email==\"Piyush@gmail.com \"and passward==\"Piyush123\":\n",
    "    print(f\"Invalid user name \")\n",
    "else:\n",
    "    print(f\"User not found\")"
   ]
  },
  {
   "cell_type": "code",
   "execution_count": 60,
   "id": "d9b73aa4",
   "metadata": {},
   "outputs": [
    {
     "name": "stdout",
     "output_type": "stream",
     "text": [
      "Valid User name \n"
     ]
    }
   ],
   "source": [
    "UserName=\"Piyush_Sharma@01\"\n",
    "\n",
    "if len(UserName)<=16:\n",
    "    print(f\"Valid User name \")\n",
    "elif len(UserName)>16:\n",
    "    print(f\"Invalid User name\")\n",
    "else:\n",
    "    print(f\"Wrong Entry\")"
   ]
  },
  {
   "cell_type": "markdown",
   "id": "03bcdccb",
   "metadata": {},
   "source": [
    "#### *Examples of AND and OR with List*"
   ]
  },
  {
   "cell_type": "code",
   "execution_count": 6,
   "id": "ac999cb0",
   "metadata": {},
   "outputs": [
    {
     "name": "stdout",
     "output_type": "stream",
     "text": [
      "Fruits Category\n"
     ]
    }
   ],
   "source": [
    "item=input(\"enter item name :\")\n",
    "\n",
    "if item==\"banana\" or item==\"apple\" or item==\"watermelon\" or item==\"grapes\" or item==\"pineapple\":\n",
    "    print(f\"Fruits Category\")\n",
    "elif item==\"onion\" or item==\"tomato\" or item==\"capsicum\" or item==\"beatroot\":\n",
    "    print(f\"Vegitables Category\")\n",
    "else:\n",
    "    print(f\"Item Not in Your bucket!\")"
   ]
  },
  {
   "cell_type": "code",
   "execution_count": 13,
   "id": "53955bbf",
   "metadata": {},
   "outputs": [
    {
     "name": "stdout",
     "output_type": "stream",
     "text": [
      "Both lists start with apple and carrot\n"
     ]
    }
   ],
   "source": [
    "fruits = [\"apple\", \"banana\", \"mango\"]\n",
    "veggies = [\"carrot\", \"beetroot\"]\n",
    "\n",
    "if fruits[0] == \"apple\" and veggies[0] == \"carrot\":\n",
    "    print(f\"Both lists start with apple and carrot\")\n",
    "elif fruits[1] == \"banana\" and veggies[1] == \"beetroot\":\n",
    "    print(\"Second items match\")\n",
    "elif fruits[2] == \"mango\" and veggies[0] == \"carrot\":\n",
    "    print(\"Mango and carrot present\")\n",
    "else:\n",
    "    print(\"No specific match found\")"
   ]
  },
  {
   "cell_type": "code",
   "execution_count": 14,
   "id": "93b59358",
   "metadata": {},
   "outputs": [
    {
     "name": "stdout",
     "output_type": "stream",
     "text": [
      "Both sets are matched \n"
     ]
    }
   ],
   "source": [
    "set_1=[1,2,3,4,5]\n",
    "set_2=[6,7,8,9,10]\n",
    "\n",
    "if set_1[1]==2 and set_1[3]==4 and set_2[2]==8 and set_2[0]==6:\n",
    "    print(f\"Both sets are matched \")\n",
    "elif set_1[1]==4 and set_1[3]==2 and set_2[2]==8 and set_2[0]==6:\n",
    "    print(f\"One of the set is matched\")\n",
    "elif set_1[1]==2 and set_1[3]==4 and set_2[2]==1 and set_2[0]==7:\n",
    "    print(f\"One of the set is matched\")\n",
    "else:\n",
    "    print(f\"None of the set matched \")"
   ]
  },
  {
   "cell_type": "code",
   "execution_count": 15,
   "id": "54c5e2f7",
   "metadata": {},
   "outputs": [
    {
     "name": "stdout",
     "output_type": "stream",
     "text": [
      "Both users are matched \n"
     ]
    }
   ],
   "source": [
    "User_1=[\"Arjun\",\"Romit\",\"Tejas\",\"Piyush\"]\n",
    "User_2=[\"Jay\",\"Rohit\",\"Aniket\",\"vasant\"]\n",
    "\n",
    "if User_1[2]==\"Tejas\" and User_2[0]==\"Jay\":\n",
    "    print(f\"Both users are matched \")\n",
    "elif User_1[0]==\"Arjun\" and User_2[3]==\"Aniket\":\n",
    "    print(f\"One of the user is matched\")\n",
    "elif User_1[3]==\"Arjun\" and User_2[2]==\"Aniket\":\n",
    "    print(f\"One of the user is matched\")\n",
    "else:\n",
    "    print(f\"Invalid user\")"
   ]
  },
  {
   "cell_type": "code",
   "execution_count": 17,
   "id": "4f1fce9c",
   "metadata": {},
   "outputs": [
    {
     "name": "stdout",
     "output_type": "stream",
     "text": [
      "One of the user is matched\n"
     ]
    }
   ],
   "source": [
    "User_1=[\"Arjun\",\"Romit\",\"Tejas\",\"Piyush\"]\n",
    "User_2=[\"Jay\",\"Rohit\",\"Vasant\",\"Aniket\"]\n",
    "\n",
    "if User_1[2]==\"Tejas\" and User_2[0]==\"Rohit\":\n",
    "    print(f\"Both users are matched \")\n",
    "elif User_1[0]==\"Arjun\" and User_2[3]==\"Aniket\":\n",
    "    print(f\"One of the user is matched\")\n",
    "elif User_1[3]==\"Arjun\" and User_2[2]==\"Aniket\":\n",
    "    print(f\"One of the user is matched\")\n",
    "else:\n",
    "    print(f\"Invalid user\")"
   ]
  },
  {
   "cell_type": "markdown",
   "id": "f1fb3abe",
   "metadata": {},
   "source": [
    "#### *Examples of AND and OR with Dictionary (dict)*"
   ]
  },
  {
   "cell_type": "code",
   "execution_count": 18,
   "id": "29afd008",
   "metadata": {},
   "outputs": [
    {
     "name": "stdout",
     "output_type": "stream",
     "text": [
      "Data matched\n"
     ]
    }
   ],
   "source": [
    "student={\"name\":\"piyush\",\"age\":22}\n",
    "program={\"course\":\"DataAnalyst\",\"batch\":\"DA_17\"}\n",
    "\n",
    "if \"name\" in student and \"course\" in program:\n",
    "    print(f\"Data matched\")\n",
    "elif \"name\" in program and \"batch\" in program:\n",
    "    print(f\"one of data matched\")\n",
    "else:\n",
    "    print(f\"Invalid student data\")"
   ]
  },
  {
   "cell_type": "code",
   "execution_count": 19,
   "id": "38305555",
   "metadata": {},
   "outputs": [
    {
     "name": "stdout",
     "output_type": "stream",
     "text": [
      "Invalid student data\n"
     ]
    }
   ],
   "source": [
    "student={\"name\":\"piyush\",\"age\":22}\n",
    "program={\"course\":\"DataAnalyst\",\"batch\":\"DA_17\"}\n",
    "\n",
    "if \"name\" in student and \"course\" in student:\n",
    "    print(f\"Data matched\")\n",
    "elif \"name\" in program and \"batch\" in program:\n",
    "    print(f\"one of data matched\")\n",
    "else:\n",
    "    print(f\"Invalid student data\")"
   ]
  },
  {
   "cell_type": "code",
   "execution_count": null,
   "id": "c0246883",
   "metadata": {},
   "outputs": [],
   "source": []
  }
 ],
 "metadata": {
  "kernelspec": {
   "display_name": "Python 3",
   "language": "python",
   "name": "python3"
  },
  "language_info": {
   "codemirror_mode": {
    "name": "ipython",
    "version": 3
   },
   "file_extension": ".py",
   "mimetype": "text/x-python",
   "name": "python",
   "nbconvert_exporter": "python",
   "pygments_lexer": "ipython3",
   "version": "3.9.12"
  }
 },
 "nbformat": 4,
 "nbformat_minor": 5
}
